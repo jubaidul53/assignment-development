{
  "nbformat": 4,
  "nbformat_minor": 0,
  "metadata": {
    "colab": {
      "name": "Assignment.ipynb",
      "provenance": [],
      "collapsed_sections": [],
      "include_colab_link": true
    },
    "kernelspec": {
      "name": "python3",
      "display_name": "Python 3"
    },
    "language_info": {
      "name": "python"
    }
  },
  "cells": [
    {
      "cell_type": "markdown",
      "metadata": {
        "id": "view-in-github",
        "colab_type": "text"
      },
      "source": [
        "<a href=\"https://colab.research.google.com/github/jubaidul53/assignment-development/blob/main/Assignment.ipynb\" target=\"_parent\"><img src=\"https://colab.research.google.com/assets/colab-badge.svg\" alt=\"Open In Colab\"/></a>"
      ]
    },
    {
      "cell_type": "code",
      "execution_count": 1,
      "metadata": {
        "colab": {
          "base_uri": "https://localhost:8080/"
        },
        "id": "rFavp4SqpDZt",
        "outputId": "631cb0c0-bbaf-4002-a6cb-a6c3d4ac00c3"
      },
      "outputs": [
        {
          "output_type": "stream",
          "name": "stdout",
          "text": [
            "{'b': [0], 'a': [1, 3, 5], 'n': [2, 4]}\n",
            "{'s': [0], 'a': [1, 3], 'b': [2], 'n': [4]}\n"
          ]
        }
      ],
      "source": [
        "import numpy as np\n",
        "import random\n",
        "import re\n",
        "#Task2\n",
        "\n",
        "def random_word(wordsList): \n",
        "  L = len(wordsList)\n",
        "  index = random.randint(0,L-1) ##Rabdom Index\n",
        "  return wordsList[index]\n",
        "\n",
        "#Task3\n",
        "\n",
        "def is_real_word(guessedWord, wordsList): \n",
        "  for word in wordsList:\n",
        "    if word == guessedWord:\n",
        "      return True\n",
        "  return False\n",
        "\n",
        "def get_dictionary(word):\n",
        "  G = {}\n",
        "  for i in range(0,len(word)):\n",
        "    if word[i] not in G.keys():\n",
        "      G[word[i]] = [i]\n",
        "    else:\n",
        "      G[word[i]].append(i)\n",
        "  return G\n",
        "\n",
        "def check_guessU(guessedWord,actualWord):\n",
        "  result = ['O' for c in guessedWord] # Results in a string with _ for each characters\n",
        "  G = get_dictionary(guessedWord)\n",
        "  A = get_dictionary(actualWord)  \n",
        "  print(G)\n",
        "  print(A)\n",
        "  for k in G.keys():\n",
        "    if k in A.keys():\n",
        "      pass\n",
        "    else:\n",
        "      pass\n",
        "\n",
        "def check_guess(guessedWord, actualWord):\n",
        "  res = []\n",
        "  for i in range(0, len(guessedWord)):\n",
        "    pos =  actualWord.find(guessedWord[i])\n",
        "    if pos == -1:\n",
        "      res.append('_')\n",
        "    elif pos == i:\n",
        "      res.append('X')\n",
        "    else:\n",
        "      res.append('O')\n",
        "  \n",
        "  return ''.join(res)\n",
        "\n",
        "#Task5\n",
        "\n",
        "def next_guess(wordsList): \n",
        "  word = input('Guess a word: ').lower()\n",
        "  for w in wordsList:\n",
        "    if w == word:\n",
        "      return 'The guess is correct'\n",
        "  print('The guess is failed! Try again!')\n",
        "  output = next_guess(wordsList)\n",
        "  return output\n",
        "\n",
        "### Main Function\n",
        "'''\n",
        "List = ['hello', 'world', 'java', 'razaul', 'jubaidul']\n",
        "output = random_word(List)\n",
        "print('Task2 Output: ', output)\n",
        "\n",
        "output = is_real_word('Javan', List)\n",
        "print('Task3 Output: ', output)\n",
        "\n",
        "output = check_guess('Javy', 'Yakyv')\n",
        "print('Task4 Output: ', output)\n",
        "\n",
        "output = next_guess(List)\n",
        "print('Task5 Output: ', output)\n",
        "'''\n",
        "\n",
        "check_guessU('banana','saban')"
      ]
    }
  ]
}